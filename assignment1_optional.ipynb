{
  "nbformat": 4,
  "nbformat_minor": 0,
  "metadata": {
    "colab": {
      "name": "assignment1_optional.ipynb",
      "provenance": []
    },
    "kernelspec": {
      "name": "python3",
      "display_name": "Python 3"
    },
    "language_info": {
      "name": "python"
    }
  },
  "cells": [
    {
      "cell_type": "markdown",
      "metadata": {
        "id": "axBoLI4y1tv4"
      },
      "source": [
        "#Assignment 1 (Optional)\n",
        "In this notebook is contained the solution of the optional assignment (third point)"
      ]
    },
    {
      "cell_type": "code",
      "metadata": {
        "colab": {
          "base_uri": "https://localhost:8080/"
        },
        "id": "1d6iWnluw0Tc",
        "outputId": "def0c147-3b11-4cfd-e16a-1a7425683f01"
      },
      "source": [
        "import nltk\n",
        "nltk.download('dependency_treebank')"
      ],
      "execution_count": 2,
      "outputs": [
        {
          "output_type": "stream",
          "text": [
            "[nltk_data] Downloading package dependency_treebank to\n",
            "[nltk_data]     /root/nltk_data...\n",
            "[nltk_data]   Unzipping corpora/dependency_treebank.zip.\n"
          ],
          "name": "stdout"
        },
        {
          "output_type": "execute_result",
          "data": {
            "text/plain": [
              "True"
            ]
          },
          "metadata": {
            "tags": []
          },
          "execution_count": 2
        }
      ]
    },
    {
      "cell_type": "markdown",
      "metadata": {
        "id": "keaCx0DBeM5r"
      },
      "source": [
        "#Modifing the classifier\n",
        "\n",
        "To modify the classifier first we extend the TransitionParser class, which is contained in the nltk.parse libraries.\n",
        "\n",
        "Then we modify the classifier defined in the train function. Instead of an SVM classifier, an MLP one can be used insted"
      ]
    },
    {
      "cell_type": "code",
      "metadata": {
        "id": "bdFhnQkYXzxP"
      },
      "source": [
        "from sklearn.naive_bayes import MultinomialNB\n",
        "from sklearn.neural_network import MLPClassifier\n",
        "from sklearn.linear_model import LogisticRegression\n",
        "\n",
        "import tempfile\n",
        "import pickle\n",
        "\n",
        "from os import remove\n",
        "from copy import deepcopy\n",
        "from operator import itemgetter\n",
        "from sklearn.datasets import load_svmlight_file\n",
        "\n",
        "class MyTransitionParser(TransitionParser):\n",
        "  def train(self, depgraphs, modelfile, verbose=True):\n",
        "          try:\n",
        "              input_file = tempfile.NamedTemporaryFile(\n",
        "                  prefix=\"transition_parse.train\", dir=tempfile.gettempdir(), delete=False\n",
        "              )\n",
        "\n",
        "              if self._algorithm == self.ARC_STANDARD:\n",
        "                  self._create_training_examples_arc_std(depgraphs, input_file)\n",
        "              else:\n",
        "                  self._create_training_examples_arc_eager(depgraphs, input_file)\n",
        "\n",
        "              input_file.close()\n",
        "              x_train, y_train = load_svmlight_file(input_file.name)\n",
        "              model = MultinomialNB()\n",
        "              #model = MLPClassifier(random_state=1, max_iter=300)\n",
        "              #model = LogisticRegression(n_jobs=1, C=1e5)\n",
        "\n",
        "              model.fit(x_train, y_train)\n",
        "              pickle.dump(model, open(modelfile, \"wb\"))\n",
        "          finally:\n",
        "              remove(input_file.name)"
      ],
      "execution_count": 35,
      "outputs": []
    },
    {
      "cell_type": "code",
      "metadata": {
        "colab": {
          "base_uri": "https://localhost:8080/"
        },
        "id": "pvZ4caSTnNll",
        "outputId": "ef816e25-3901-4db9-d035-5c1069bc6529"
      },
      "source": [
        "from nltk.parse.dependencygraph import DependencyGraph\n",
        "from nltk.parse import ProbabilisticProjectiveDependencyParser\n",
        "from nltk.parse.transitionparser import TransitionParser\n",
        "from nltk.corpus import dependency_treebank\n",
        "from nltk.parse import DependencyEvaluator\n",
        "\n",
        "print('---------- NLTK TRANSITION PARSER WITH SVM CLASSIFIER ----------')\n",
        "\n",
        "tp = TransitionParser('arc-standard')\n",
        "tp.train(dependency_treebank.parsed_sents()[:200], 'tp.model')\n",
        "parses = tp.parse(dependency_treebank.parsed_sents()[-10:], 'tp.model')\n",
        "\n",
        "de = DependencyEvaluator(parses, dependency_treebank.parsed_sents()[-10:])\n",
        "las, uas = de.eval()\n",
        "\n",
        "print('Evaluation: ')\n",
        "print('\\tlabeled attachments:', las)\n",
        "print('\\tunlabeled attachments:', uas)\n",
        "\n",
        "print('\\n---------- NLTK TRANSITION PARSER WITH MLP CLASSIFIER ----------')\n",
        "\n",
        "tp = MyTransitionParser('arc-standard')\n",
        "tp.train(dependency_treebank.parsed_sents()[:200], 'tp.model')\n",
        "parses = tp.parse(dependency_treebank.parsed_sents()[-10:], 'tp.model')\n",
        "\n",
        "de = DependencyEvaluator(parses, dependency_treebank.parsed_sents()[-10:])\n",
        "las, uas = de.eval()\n",
        "\n",
        "print('Evaluation: ')\n",
        "print('\\tlabeled attachments:', las)\n",
        "print('\\tunlabeled attachments:', uas)"
      ],
      "execution_count": 36,
      "outputs": [
        {
          "output_type": "stream",
          "text": [
            "---------- NLTK TRANSITION PARSER WITH SVM CLASSIFIER ----------\n",
            " Number of training examples : 200\n",
            " Number of valid (projective) examples : 200\n",
            "[LibSVM]Evaluation: \n",
            "\tlabeled attachments: 0.7958333333333333\n",
            "\tunlabeled attachments: 0.7958333333333333\n",
            "\n",
            "---------- NLTK TRANSITION PARSER WITH MLP CLASSIFIER ----------\n",
            " Number of training examples : 200\n",
            " Number of valid (projective) examples : 200\n",
            "Evaluation: \n",
            "\tlabeled attachments: 0.6166666666666667\n",
            "\tunlabeled attachments: 0.6166666666666667\n"
          ],
          "name": "stdout"
        }
      ]
    },
    {
      "cell_type": "markdown",
      "metadata": {
        "id": "wLZxayRzwU0u"
      },
      "source": [
        "#SVM Classifier\n",
        "\n",
        "```\n",
        "labeled attachments: 0.7958333333333333\n",
        "unlabeled attachments: 0.7958333333333333\n",
        "```\n",
        "#Linear Regression\n",
        "\n",
        "\n",
        "```\n",
        "labeled attachments: 0.7375\n",
        "unlabeled attachments: 0.7375\n",
        "  ```\n",
        "#Multi-layer Perceptron Classifier\n",
        "\n",
        "```\n",
        "labeled attachments: 0.7333333333333333\n",
        "unlabeled attachments: 0.7333333333333333\n",
        "```\n",
        "\n",
        "\n",
        "\n",
        "#Naive Bayes Classifier for Multinomial Model\n",
        "```\n",
        "labeled attachments: 0.6166666666666667\n",
        "unlabeled attachments: 0.6166666666666667\n",
        "```\n",
        "\n",
        "So it seems that Linear Regression, together with MLP, are the classifiers that are closer to the SVM classifier performances. \n",
        "Even though SVM is still the best one.\n"
      ]
    }
  ]
}